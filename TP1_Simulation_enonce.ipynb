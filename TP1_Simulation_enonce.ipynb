{
  "nbformat": 4,
  "nbformat_minor": 0,
  "metadata": {
    "kernelspec": {
      "display_name": "Python 3",
      "language": "python",
      "name": "python3"
    },
    "language_info": {
      "codemirror_mode": {
        "name": "ipython",
        "version": 3
      },
      "file_extension": ".py",
      "mimetype": "text/x-python",
      "name": "python",
      "nbconvert_exporter": "python",
      "pygments_lexer": "ipython3",
      "version": "3.8.3"
    },
    "colab": {
      "name": "TP1-Simulation-enonce.ipynb",
      "provenance": [],
      "include_colab_link": true
    }
  },
  "cells": [
    {
      "cell_type": "markdown",
      "metadata": {
        "id": "view-in-github",
        "colab_type": "text"
      },
      "source": [
        "<a href=\"https://colab.research.google.com/github/RandomAnass/Tutorials-Jupyter-books/blob/main/TP1_Simulation_enonce.ipynb\" target=\"_parent\"><img src=\"https://colab.research.google.com/assets/colab-badge.svg\" alt=\"Open In Colab\"/></a>"
      ]
    },
    {
      "cell_type": "markdown",
      "metadata": {
        "id": "D0Mei-BD0e8G"
      },
      "source": [
        "# TP1 - Simulation de variables aléatoires"
      ]
    },
    {
      "cell_type": "code",
      "metadata": {
        "id": "dij147j20e8K"
      },
      "source": [
        "%matplotlib inline\n",
        "import numpy as  np   \n",
        "import scipy as sp\n",
        "from pylab import *\n",
        "import numpy.random as rd \n",
        "import scipy.special as spc"
      ],
      "execution_count": null,
      "outputs": []
    },
    {
      "cell_type": "markdown",
      "metadata": {
        "id": "ItUlUow00e8M"
      },
      "source": [
        "## Exercice 1 - Simulation de lois de Bernoulli et de lois binomiales"
      ]
    },
    {
      "cell_type": "markdown",
      "metadata": {
        "id": "nuj83qfj0e8N"
      },
      "source": [
        "On rappelle qu'une variable de Bernoulli de paramètre $p$ prend la valeur $1$ avec la probabilité $p$, et $0$ avec la probabilité $(1-p)$.\n",
        "\n",
        "Une variable binomiale de paramètres $(n,p)$ peut être vue comme la somme de $n$ v.a. indépendantes de loi de Bernoulli de paramètre $p$."
      ]
    },
    {
      "cell_type": "markdown",
      "metadata": {
        "id": "53WFtWzB0e8O"
      },
      "source": [
        "> **Question 1.**\n",
        "En utilisant des [variables uniformes](https://docs.scipy.org/doc/numpy-1.13.0/reference/generated/numpy.random.uniform.html) sur $[0,1]$, construire une fonction <code>bernp()</code> qui renvoie $n$ réalisations indépendantes d'une variable de Bernoulli de paramètre $p$ .\n",
        "Vérifier le bon fonctionnement de cette fonction en affichant les proportions de 0 et 1 obtenus pour $n=100$. "
      ]
    },
    {
      "cell_type": "code",
      "metadata": {
        "colab": {
          "base_uri": "https://localhost:8080/"
        },
        "id": "qnAVb4ay0e8Q",
        "outputId": "7b5b1086-5b13-4b34-a2a1-156412fb5e54"
      },
      "source": [
        "from numpy import random \n",
        "def bernp(p,n):\n",
        "  L=[]\n",
        "  for i in range(n):\n",
        "    x=random.random()\n",
        "    L.append((x<p))\n",
        "  return L\n",
        "print(\"pour n=100\")\n",
        "p=0.1\n",
        "print(\"pour p=\",p,\"on trouve :\",bernp(p,100).count(1)/len(bernp(p,100)))\n",
        "p=0.75\n",
        "print(\"pour p=\",p,\"on trouve :\",bernp(p,100).count(1)/len(bernp(p,100)))\n",
        "print(\"pour n=1000\")\n",
        "p=0.69\n",
        "print(\"pour p=\",p,\"on trouve :\",bernp(p,1000).count(1)/len(bernp(p,1000)))"
      ],
      "execution_count": null,
      "outputs": [
        {
          "output_type": "stream",
          "name": "stdout",
          "text": [
            "pour n=100\n",
            "pour p= 0.1 on trouve : 0.09\n",
            "pour p= 0.75 on trouve : 0.71\n",
            "pour n=1000\n",
            "pour p= 0.69 on trouve : 0.692\n"
          ]
        }
      ]
    },
    {
      "cell_type": "markdown",
      "metadata": {
        "id": "jOaycb1x0e8Q"
      },
      "source": [
        "> **Question 2.**\n",
        "Construire une fonction <code>binnp1(n,p)</code> qui renvoie une réalisation d'une variable binomiale de paramètres $n$ et $p$."
      ]
    },
    {
      "cell_type": "code",
      "metadata": {
        "colab": {
          "base_uri": "https://localhost:8080/"
        },
        "id": "2LHHb0v20e8R",
        "outputId": "704bc66f-e0e7-489a-b3d1-4d40f3e5bb79"
      },
      "source": [
        "def binnp1(p,n):\n",
        "  return np.sum(bernp(p,n))\n",
        "\n",
        "binnp1(0.8,1000)"
      ],
      "execution_count": null,
      "outputs": [
        {
          "output_type": "execute_result",
          "data": {
            "text/plain": [
              "799"
            ]
          },
          "metadata": {},
          "execution_count": 11
        }
      ]
    },
    {
      "cell_type": "markdown",
      "metadata": {
        "id": "GU8Lks9c0e8S"
      },
      "source": [
        "> **Question 3.**\n",
        "Construire enfin une fonction <code>binnpk(k,n,p)</code> qui renvoie $k$ réalisations indépendantes d'une variable binomiale de paramètres $n$ et $p$. "
      ]
    },
    {
      "cell_type": "code",
      "metadata": {
        "colab": {
          "base_uri": "https://localhost:8080/"
        },
        "id": "mF-RSsQ50e8S",
        "outputId": "74fc6789-f427-4d03-abe4-e8a51bd0c332"
      },
      "source": [
        "def binnpk(k,n,p):\n",
        "  return [binnp1(p,n) for k_index in range(k)]\n",
        "\n",
        "binnpk(25,1000,0.66)"
      ],
      "execution_count": null,
      "outputs": [
        {
          "output_type": "execute_result",
          "data": {
            "text/plain": [
              "[690,\n",
              " 663,\n",
              " 668,\n",
              " 679,\n",
              " 667,\n",
              " 657,\n",
              " 661,\n",
              " 657,\n",
              " 668,\n",
              " 656,\n",
              " 653,\n",
              " 671,\n",
              " 672,\n",
              " 679,\n",
              " 661,\n",
              " 678,\n",
              " 657,\n",
              " 645,\n",
              " 662,\n",
              " 665,\n",
              " 664,\n",
              " 654,\n",
              " 670,\n",
              " 645,\n",
              " 645]"
            ]
          },
          "metadata": {},
          "execution_count": 12
        }
      ]
    },
    {
      "cell_type": "markdown",
      "metadata": {
        "id": "ZakXDw_q0e8T"
      },
      "source": [
        "> **Question 4.**\n",
        "Lorsque $n \\rightarrow \\infty$ et $np \\rightarrow \\lambda$ (et donc $p \\rightarrow 0$), on sait que la loi Binomiale de paramètres $n$ et $p$ converge en loi vers une loi de Poisson de paramètre $\\lambda$.   \n",
        "- Générer $N_{sim}=10000$ réalisations indépendantes d'une loi binomiale de paramètres $n$ et $p$.   \n",
        "- Représenter l'histogramme de l'échantillon ainsi obtenu (utiliser la fonction <code>[hist](https://matplotlib.org/api/_as_gen/matplotlib.pyplot.hist.html)</code>).   \n",
        "- Superposer sur ce dernier les valeurs des probabilités [d'une loi binomiale](https://docs.scipy.org/doc/scipy-0.19.1/reference/generated/scipy.stats.binom.html) de paramètre $n$ et $p$ ainsi que les valeurs des probabilités d'une [loi de Poisson]() de paramètre $np$. On pourra utiliser la fonction [scatter](https://matplotlib.org/api/_as_gen/matplotlib.pyplot.scatter.html).\n",
        "- Représenter ces graphiques pour (n,p) = (10,1/2), (50,1/10), (100, 1/20) et (200, 1/40).  \n",
        "- Commenter les résultats obtenus.  "
      ]
    },
    {
      "cell_type": "code",
      "metadata": {
        "id": "X04xnDz70e8U"
      },
      "source": [
        "from scipy.stats import binom, poisson, norm"
      ],
      "execution_count": null,
      "outputs": []
    },
    {
      "cell_type": "code",
      "metadata": {
        "colab": {
          "base_uri": "https://localhost:8080/"
        },
        "id": "63F2BqdC0e8V",
        "outputId": "579b88b5-d480-4bea-c6f2-c742c87b38f5"
      },
      "source": [
        "Nsim= 10000\n",
        "n=1000\n",
        "p=0.69\n",
        "list_binnpk=binnpk(Nsim,n,p)\n",
        "np.array(list_binnpk)"
      ],
      "execution_count": null,
      "outputs": [
        {
          "output_type": "execute_result",
          "data": {
            "text/plain": [
              "array([692, 708, 690, ..., 704, 683, 684])"
            ]
          },
          "metadata": {},
          "execution_count": 15
        }
      ]
    },
    {
      "cell_type": "code",
      "metadata": {
        "colab": {
          "base_uri": "https://localhost:8080/",
          "height": 265
        },
        "id": "tM4hKAnQ5USW",
        "outputId": "dbe2a2c8-7ae7-4e24-a743-41b0ae04a646"
      },
      "source": [
        "import matplotlib.pyplot as plt\n",
        "plt.hist(binom.rvs(n,p,size=Nsim),label=\"binom\",color=\"green\",alpha=0.5)\n",
        "plt.hist(list_binnpk,label=\"binom simulé\",color=\"orange\",alpha=0.5)\n",
        "plt.hist(poisson.rvs(n*p,size=Nsim),label=\"poisson\",color=\"blue\",alpha=0.5)\n",
        "plt.legend(loc='upper right')\n",
        "plt.show()"
      ],
      "execution_count": null,
      "outputs": [
        {
          "output_type": "display_data",
          "data": {
            "image/png": "[encoded data removed]",
            "text/plain": [
              "<Figure size 432x288 with 1 Axes>"
            ]
          },
          "metadata": {
            "needs_background": "light"
          }
        }
      ]
    },
    {
      "cell_type": "code",
      "metadata": {
        "colab": {
          "base_uri": "https://localhost:8080/",
          "height": 267
        },
        "id": "aUKDaqIQ8jTn",
        "outputId": "b61f47fc-decb-433e-c42e-4be2a21d17e8"
      },
      "source": [
        "Nsim= 100000\n",
        "n=1000\n",
        "p=0.069\n",
        "list_binnpk=binnpk(Nsim,n,p)\n",
        "np.array(list_binnpk)\n",
        "plt.hist(binom.rvs(n,p,size=Nsim),label=\"binom\",color=\"green\",alpha=0.5)\n",
        "plt.hist(list_binnpk,label=\"binom simulé\",color=\"orange\",alpha=0.5)\n",
        "plt.hist(poisson.rvs(n*p,size=Nsim),label=\"poisson\",color=\"blue\",alpha=0.5)\n",
        "plt.legend(loc='upper right')\n",
        "plt.show()"
      ],
      "execution_count": null,
      "outputs": [
        {
          "output_type": "display_data",
          "data": {
            "image/png": "[encoded data removed]",
            "text/plain": [
              "<Figure size 432x288 with 1 Axes>"
            ]
          },
          "metadata": {
            "needs_background": "light"
          }
        }
      ]
    },
    {
      "cell_type": "code",
      "metadata": {
        "colab": {
          "base_uri": "https://localhost:8080/",
          "height": 283
        },
        "id": "3V4gc4zu9DB3",
        "outputId": "f550af75-54cb-4795-daf5-f1d3b161a9c8"
      },
      "source": [
        "print(\"pmf\")\n",
        "Nsim= 10000\n",
        "n=10000\n",
        "p=0.02\n",
        "x=binnpk(Nsim,n,p)\n",
        "y_binom_pmf=binom.pmf(x, n, p)\n",
        "plt.scatter(x, y_binom_pmf,label=\"binom\",color=\"blue\",alpha=0.5)\n",
        "y_poisson_pmf=poisson.pmf(x,n*p)\n",
        "plt.scatter(x, y_poisson_pmf,label=\"poisson\",color=\"orange\",alpha=0.5)\n",
        "\n",
        "plt.legend(loc='upper right')\n",
        "\n",
        "plt.show()"
      ],
      "execution_count": null,
      "outputs": [
        {
          "output_type": "stream",
          "name": "stdout",
          "text": [
            "pmf\n"
          ]
        },
        {
          "output_type": "display_data",
          "data": {
            "image/png": "[encoded data removed]",
            "text/plain": [
              "<Figure size 432x288 with 1 Axes>"
            ]
          },
          "metadata": {
            "needs_background": "light"
          }
        }
      ]
    },
    {
      "cell_type": "code",
      "metadata": {
        "colab": {
          "base_uri": "https://localhost:8080/",
          "height": 283
        },
        "id": "by4-SKKS_r25",
        "outputId": "2ac54ce0-43c9-480a-a54f-8dc02f875a06"
      },
      "source": [
        "mu=n*p\n",
        "x1 = np.arange(poisson.ppf(0.01, mu),poisson.ppf(0.99, mu))\n",
        "plt.scatter(x1, poisson.pmf(x1, mu),label=\"poisson\",color=\"orange\",alpha=0.5)\n",
        "x2 = np.arange(binom.ppf(0.01, n, p),binom.ppf(0.99, n, p))\n",
        "plt.scatter(x2, binom.pmf(x2, n, p),label=\"binom\",color=\"blue\",alpha=0.5)"
      ],
      "execution_count": null,
      "outputs": [
        {
          "output_type": "execute_result",
          "data": {
            "text/plain": [
              "<matplotlib.collections.PathCollection at 0x7f77db266a10>"
            ]
          },
          "metadata": {},
          "execution_count": 40
        },
        {
          "output_type": "display_data",
          "data": {
            "image/png": "[encoded data removed]",
            "text/plain": [
              "<Figure size 432x288 with 1 Axes>"
            ]
          },
          "metadata": {
            "needs_background": "light"
          }
        }
      ]
    },
    {
      "cell_type": "markdown",
      "metadata": {
        "id": "p2i83flf0e8V"
      },
      "source": [
        "> **Question 4.** \n",
        "Lorsque $p$ est fixé et $n$ grand, par quelle loi peut-on approcher la loi binomiale de paramètres $n$ et $p$ ?   \n",
        "Illustrer cette convergence en procédant comme dans la question précédente."
      ]
    },
    {
      "cell_type": "markdown",
      "metadata": {
        "id": "X8EAACAwAwPq"
      },
      "source": [
        "Normal par le théorème central limite"
      ]
    },
    {
      "cell_type": "code",
      "metadata": {
        "scrolled": true,
        "colab": {
          "base_uri": "https://localhost:8080/",
          "height": 283
        },
        "id": "9b5U9ntX0e8W",
        "outputId": "edd85503-7723-498f-e703-7f4df5a8f33d"
      },
      "source": [
        "n=10000\n",
        "p=0.69\n",
        "\n",
        "x1=np.linspace(-10,10,1000)\n",
        "plt.hist(binom.rvs(n,p,size=Nsim),label=\"binom\",color=\"green\",alpha=0.5)\n",
        "x2 = np.linspace(-10,10,1000)\n",
        "plt.scatter(x2, norm.pdf(x2,n*p, n*p*(1-p)),label=\"norm\",color=\"blue\",alpha=0.5) #pdf"
      ],
      "execution_count": null,
      "outputs": [
        {
          "output_type": "execute_result",
          "data": {
            "text/plain": [
              "<matplotlib.collections.PathCollection at 0x7f77db881550>"
            ]
          },
          "metadata": {},
          "execution_count": 55
        },
        {
          "output_type": "display_data",
          "data": {
            "image/png": "[encoded data removed]",
            "text/plain": [
              "<Figure size 432x288 with 1 Axes>"
            ]
          },
          "metadata": {
            "needs_background": "light"
          }
        }
      ]
    },
    {
      "cell_type": "markdown",
      "metadata": {
        "collapsed": true,
        "id": "E6da7zYE0e8Y"
      },
      "source": [
        "## Exercice 2 - Simulation d'une loi triangulaire par la méthode d'inversion\n",
        "On considère la loi de densité triangulaire $f$ suivante:\n",
        "$$ f(x)=0,\\, \\text{si}\\, x\\leq 0 $$\n",
        "$$ f(x)=x,\\, \\text{si}\\, x \\in ]0,1]$$\n",
        "$$ f(x)=2-x,\\, \\text{si}\\, x\\in ]1,2]$$\n",
        "$$ f(x)=0,\\, \\text{si}\\, x \\geq 2$$"
      ]
    },
    {
      "cell_type": "markdown",
      "metadata": {
        "id": "tHVk9Y7K0e8Z"
      },
      "source": [
        "> **Question 1.** Utilisez la méthode d’inversion pour simuler des variables aléatoires dont la loi a pour densité la fonction triangulaire f définie ci-dessus. "
      ]
    },
    {
      "cell_type": "code",
      "metadata": {
        "id": "rV7FoAsX0e8a"
      },
      "source": [
        ""
      ],
      "execution_count": null,
      "outputs": []
    },
    {
      "cell_type": "markdown",
      "metadata": {
        "id": "haAueqAE0e8b"
      },
      "source": [
        "> **Question 2.** Vérifiez graphiquement que la loi des variables aléatoires obtenues correspond bien à celle de la densité f."
      ]
    },
    {
      "cell_type": "code",
      "metadata": {
        "id": "BgXG9vjz0e8b"
      },
      "source": [
        ""
      ],
      "execution_count": null,
      "outputs": []
    },
    {
      "cell_type": "markdown",
      "metadata": {
        "id": "5bZ4tCSM0e8b"
      },
      "source": [
        "## Exercice 3 - Loi normale - Méthode de Box et Muller\n"
      ]
    },
    {
      "cell_type": "markdown",
      "metadata": {
        "id": "d8eSHH3G0e8c"
      },
      "source": [
        "En utilisant la méthode d'inversion, écrire une fonction $expol$ d'argument le paramètre $l$ qui renvoie $n$ variables exponentielle de paramètre $l$."
      ]
    },
    {
      "cell_type": "code",
      "metadata": {
        "colab": {
          "base_uri": "https://localhost:8080/",
          "height": 553
        },
        "id": "GDkVl8Lz0e8c",
        "outputId": "cd97f1cd-8196-4dbf-dbfb-a8df5db6ed6a"
      },
      "source": [
        "from scipy.stats import uniform, expon\n",
        "def expol(l,n):\n",
        "    U=uniform.rvs(size=n)\n",
        "    return -l*np.log(1-U)\n",
        "l=5\n",
        "n=100\n",
        "X=expol(l,n)\n",
        "actual=expon.rvs(size=n,scale=l)\n",
        "\n",
        "plt.figure(figsize=(12,9))\n",
        "plt.hist(X, bins=50, alpha=0.5, label=\"Generated r.v.\")\n",
        "plt.hist(actual, bins=50, alpha=0.5, label=\"Actual r.v.\")\n",
        "plt.title(\"Generated vs Actual %i Exponential Random Variables\" %n)\n",
        "plt.legend()\n",
        "plt.show()\n"
      ],
      "execution_count": null,
      "outputs": [
        {
          "output_type": "display_data",
          "data": {
            "image/png": "[encoded data removed]",
            "text/plain": [
              "<Figure size 864x648 with 1 Axes>"
            ]
          },
          "metadata": {
            "needs_background": "light"
          }
        }
      ]
    },
    {
      "cell_type": "markdown",
      "metadata": {
        "id": "_nvkKfgH0e8c"
      },
      "source": [
        "Écrire une fonction $normaleBM$ qui renvoie (dans une matrice) deux\n",
        "vecteurs indépendants de taille $n$ de nombres aléatoires tirés\n",
        "suivant la loi $\\mathcal{N}(0,1)$ en utilisant l'algorithme de Box\n",
        "et Muller. Vérifier graphiquement que les vecteurs obtenus ont bien la loi souhaitée."
      ]
    },
    {
      "cell_type": "code",
      "metadata": {
        "colab": {
          "base_uri": "https://localhost:8080/",
          "height": 281
        },
        "id": "XEId_fvu0e8d",
        "outputId": "0ed45476-2cf8-47c8-b7ee-3e9c5c840d19"
      },
      "source": [
        "def normaleB(n):\n",
        "  U1 = np.random.uniform(size = n)\n",
        "  U2 = np.random.uniform(size = n)\n",
        "  R = np.sqrt(-2 * np.log(U1))\n",
        "  Theta = 2 * np.pi * U2\n",
        "  X = R * np.cos(Theta)\n",
        "  Y = R * np.sin(Theta)\n",
        "  return [X,Y]\n",
        "X=normaleB(100)[0]\n",
        "Y=normaleB(100)[1]\n",
        "fig,(ax1,ax2) = plt.subplots(1,2)\n",
        "temp = ax1.hist(X)\n",
        "ax1.set_title(\"X\")\n",
        "temp = ax2.hist(Y)\n",
        "ax2.set_title(\"Y\")\n",
        "plt.show()"
      ],
      "execution_count": null,
      "outputs": [
        {
          "output_type": "display_data",
          "data": {
            "image/png": "[encoded data removed]",
            "text/plain": [
              "<Figure size 432x288 with 2 Axes>"
            ]
          },
          "metadata": {
            "needs_background": "light"
          }
        }
      ]
    },
    {
      "cell_type": "markdown",
      "metadata": {
        "id": "dRaHjSEp0e8d"
      },
      "source": [
        "Soit deux v.a. indépendantes normales centrées réduites $X$ et $Y$. Pour $a \\in R$, calculer la covariance et la corrélation entre $X$ et $aX+ Y$. Proposer une fonction $normalecor$, d'argument $r \\in [-1,1]$ et $n \\in \\mathbb{N}$ qui renvoie (dans une matrice) deux vecteurs de variables aléatoires de $\\mathcal{N}(0,1)$ et de corrélation $r$ .\n",
        "Vérifier que la corrélation empirique des vecteurs simulés est cohérente avec la valeur imposée $r$, et représenter le nuage des deux vecteurs. Qu'observe-t-on ? "
      ]
    },
    {
      "cell_type": "markdown",
      "metadata": {
        "id": "DSKLlkG0PIVx"
      },
      "source": [
        "$Cov(X,aX+Y)=a.Var(x)-Cov(X,Y)$\n",
        "X indep de Y alors $Cov(X,Y)=0$\n",
        "Et $Var(X)=1$, Donc $Cov(X,aX+Y)=a$\n"
      ]
    },
    {
      "cell_type": "code",
      "metadata": {
        "colab": {
          "base_uri": "https://localhost:8080/"
        },
        "id": "53Ud5UNG0e8e",
        "outputId": "e5a6e3ec-3f60-419e-f2da-5311a9de4bc1"
      },
      "source": [
        "def normalecor(r,n):\n",
        "  X=normaleB(n)[0]\n",
        "  Z=r*X+normaleB(n)[1]\n",
        "  return [X,Z]\n",
        "\n",
        "np.cov(normalecor(0.5,100000))"
      ],
      "execution_count": null,
      "outputs": [
        {
          "output_type": "execute_result",
          "data": {
            "text/plain": [
              "array([[1.00153324, 0.50198313],\n",
              "       [0.50198313, 1.25195886]])"
            ]
          },
          "metadata": {},
          "execution_count": 5
        }
      ]
    },
    {
      "cell_type": "markdown",
      "metadata": {
        "id": "1MNHth_L0e8e"
      },
      "source": [
        "## Exercice 4 - Simulation de la lois gamma par l'algorithme d'Ahrens et Dieters "
      ]
    },
    {
      "cell_type": "markdown",
      "metadata": {
        "id": "Ugqu4aKU0e8e"
      },
      "source": [
        "Cet exercice a pour objectif de simuler des variables aléatoires $\\Gamma(a,b)$ avec $a,b>0$ quelconques, sans utiliser [numpy.random.gamma](https://docs.scipy.org/doc/numpy-1.13.0/reference/generated/numpy.random.gamma.html) évidemment. On sait (c.f. le cours) que ce probléme se raméne essentiellement à simuler une loi $\\Gamma(a,1)$ avec $a < 1$. On note \n",
        "\\begin{equation*}\n",
        "f(x,a)=\\frac{1}{\\Gamma(a)} e^{-x} x^{a-1} \\mathbb{1}_{[0,+\\infty[}(x)\n",
        "\\end{equation*}\n",
        "\n",
        "a densité de le loi $\\Gamma(a,1)$.\n",
        "Pour simuler selon cette loi (avec $a < 1$ fixé), on va appliquer une méthode de rejet en utilisant comme enveloppe la loi de densité sur $\\mathbb{R}$\n",
        "\n",
        "\\begin{equation*}\n",
        "g(x,a)=\\frac{ae}{a+e}\\left(x^{a-1} \\mathbb{1}_{]0,1[}(x)+ e^{-x}\\mathbb{1}_{[1,+\\infty[}(x)\\right).\n",
        "\\end{equation*}\n",
        "\n",
        "En effet, on peut montrer que pour $c=(a+e)/(a e \\Gamma(a))$, on a alors $ f(x,a) \\leq c g(x,a)$ pour tout $x \\in \\mathbb{R}$. Puisque l'on sait simuler des variables aléatoire de densité $g$ (voir plus bas), il est donc possible de simuler des variables aléatoires de densité $f$ par la méthode de rejet dont on rappelle l'algorithme ci-dessous :"
      ]
    },
    {
      "cell_type": "markdown",
      "metadata": {
        "id": "9xFos64F0e8e"
      },
      "source": [
        "> #### Algorithme de rejet\n",
        "- 1: Simuler :\n",
        " - $X$ de densité $g(\\cdot,a)$ ;\n",
        " - $U$ de loi $\\mathcal{U}([0,1])$ (indépendente de $X$) ;\n",
        "- 2: Si $( c g(X,a)  U >  f(X,a) )$ \n",
        " - Alors retourner en 1 (rejet) ; \n",
        " - Sinon accepter $X$ comme un tirage aléatoire de densité de probabilité $f(\\cdot,a)$."
      ]
    },
    {
      "cell_type": "markdown",
      "metadata": {
        "id": "hgsh_I5C0e8f"
      },
      "source": [
        "> **Question 1 (Représentation de la densité $f$ et de son enveloppe).**\n",
        "\n",
        "> **(1.a)** Créer deux fonction `f` et `g`  de paramètres $x$ et $a$ pour les deux densités définies plus haut."
      ]
    },
    {
      "cell_type": "code",
      "metadata": {
        "id": "kg2ug8Sf0e8f"
      },
      "source": [
        "def f(X,a):\n",
        "  X_out=[]\n",
        "  for x in X:\n",
        "    X_out.append((1/spc.gamma(a))*np.exp(-x)*(x**(a-1)*(x>0)))\n",
        "  return np.array(X_out)\n",
        "def g(x,a):\n",
        "  X=[]\n",
        "  for u in x:\n",
        "    X.append(((a*np.exp(1))/(a+np.exp(1)))*((u**(a-1))*(0<u)*(u<1)+(np.exp(-u))*(u>=1)))\n",
        "  return np.array(X)\n",
        "\n"
      ],
      "execution_count": null,
      "outputs": []
    },
    {
      "cell_type": "markdown",
      "metadata": {
        "id": "3JP_cs4s0e8f"
      },
      "source": [
        "> **(1.b)** Tracer la densité $f$ et la fonction $c g$."
      ]
    },
    {
      "cell_type": "code",
      "metadata": {
        "id": "Er6U4e1k0e8g",
        "colab": {
          "base_uri": "https://localhost:8080/",
          "height": 428
        },
        "outputId": "c79817e6-e726-4e71-d4ad-4ac03cbd22c1"
      },
      "source": [
        "import numpy as np\n",
        "import matplotlib.pyplot as plt\n",
        "\n",
        "a=0.5\n",
        "c=2\n",
        "t = np.linspace(0, 10, 1000)\n",
        "f_t = f(t,a)\n",
        "g_t = c*g(t,a)\n",
        "\n",
        "plt.plot(t, f_t, linewidth=2, label=r\"$f(x,a)=\\frac{1}{\\Gamma(a)} e^{-x} x^{a-1} \\mathbb{1}_{[0,+\\infty[}(x)$\")\n",
        "plt.plot(t, g_t, linewidth=2, label=r\"$g(x,a)=\\frac{ae}{a+e}\\left(x^{a-1} \\mathbb{1}_{]0,1[}(x)+ e^{-x}\\mathbb{1}_{[1,+\\infty[}(x)\\right)$\")\n",
        "plt.xlim(0, 6)\n",
        "plt.xlabel(\"t\")\n",
        "plt.legend(fontsize=14)\n",
        "plt.show()\n",
        "\n"
      ],
      "execution_count": null,
      "outputs": [
        {
          "output_type": "stream",
          "name": "stderr",
          "text": [
            "/usr/local/lib/python3.7/dist-packages/ipykernel_launcher.py:4: RuntimeWarning: divide by zero encountered in double_scalars\n",
            "  after removing the cwd from sys.path.\n",
            "/usr/local/lib/python3.7/dist-packages/ipykernel_launcher.py:4: RuntimeWarning: invalid value encountered in multiply\n",
            "  after removing the cwd from sys.path.\n",
            "/usr/local/lib/python3.7/dist-packages/ipykernel_launcher.py:9: RuntimeWarning: divide by zero encountered in double_scalars\n",
            "  if __name__ == '__main__':\n",
            "/usr/local/lib/python3.7/dist-packages/ipykernel_launcher.py:9: RuntimeWarning: invalid value encountered in multiply\n",
            "  if __name__ == '__main__':\n"
          ]
        },
        {
          "output_type": "display_data",
          "data": {
            "image/png": "[encoded data removed]",
            "text/plain": [
              "<Figure size 432x288 with 1 Axes>"
            ]
          },
          "metadata": {
            "needs_background": "light"
          }
        }
      ]
    },
    {
      "cell_type": "markdown",
      "metadata": {
        "id": "NUiwHsSD0e8g"
      },
      "source": [
        "## **Question 2 (Simulation selon la loi de densité $g$).**\n",
        "On note $G(\\cdot,a)$ la fonction de répartition associée à la densité $g(\\cdot,a)$.\n",
        "\n",
        "> **(2.a)** Ecrire une fonction `G`, dépendant de $x$ et $a$, qui renvoie la valeur de $G(x,a)$.  Écrire ensuite une fonction `Ginv`, dépendant de $z$ et $a$, qui renvoie l'inverse généralisée de la fonction $G(\\cdot,a)$ :\n",
        "\\begin{equation*}\n",
        "Ginv(z,a)=\\left(\\frac{a+e}{e} z\\right)^{1/a} \\mathbb{1}_{(z < \\frac{e}{a+e})}-\\log\\left(\\frac{a+e}{a e}(1- z)\\right)\\mathbb{1}_{(z \\geq \\frac{e}{a+e})} \\:†.\n",
        "\\end{equation*}\n",
        "Vérifier numériquement que $Ginv$ est bien l'inverse généralisée de $G$. "
      ]
    },
    {
      "cell_type": "code",
      "metadata": {
        "id": "Vdf1IwEE0e8g",
        "colab": {
          "base_uri": "https://localhost:8080/",
          "height": 318
        },
        "outputId": "4b09e9f6-ac4b-4fe8-afc8-32c0ac9754db"
      },
      "source": [
        "def G(X,a):\n",
        "  return np.array([(((np.exp(1)/(a+np.exp(1)))*(x**a))*(0<x<1))+(1-(((a*np.exp(1))/(a+np.exp(1)))*(np.exp(-x)))*(x>=1)) for x in X])\n",
        "\n",
        "def Ginv(Z,a):\n",
        "  Z_out=[]\n",
        "  c1 = np.exp(1)/(a+np.exp(1))\n",
        "  return np.array([(((1/c1)*z)**(1/a))*(z<c1)-np.log((1/(c1*a))*(1-z))*(z>=c1)for z in Z])\n",
        "\n",
        "a= 0.5 \n",
        "t= np.linspace(0, 10, 1000)\n",
        "G_t = G(t,a)\n",
        "Ginv_t = Ginv(t,a)\n",
        "\n",
        "plt.plot(t, G_t, linewidth=2, label=r\"$G$\")\n",
        "plt.plot(t, Ginv_t, linewidth=2, label=r\"$Ginv$\")\n",
        "plt.xlim(0, 6)\n",
        "plt.xlabel(\"t\")\n",
        "plt.legend(fontsize=14)\n",
        "plt.show()"
      ],
      "execution_count": null,
      "outputs": [
        {
          "output_type": "stream",
          "name": "stderr",
          "text": [
            "/usr/local/lib/python3.7/dist-packages/ipykernel_launcher.py:7: RuntimeWarning: invalid value encountered in log\n",
            "  import sys\n"
          ]
        },
        {
          "output_type": "display_data",
          "data": {
            "image/png": "[encoded data removed]",
            "text/plain": [
              "<Figure size 432x288 with 1 Axes>"
            ]
          },
          "metadata": {
            "needs_background": "light"
          }
        }
      ]
    },
    {
      "cell_type": "code",
      "metadata": {
        "colab": {
          "base_uri": "https://localhost:8080/",
          "height": 354
        },
        "id": "bF80Sq_Q7jnu",
        "outputId": "ef7aa3c5-5789-42ba-ff02-99f63920bf92"
      },
      "source": [
        "t= np.linspace(0, 10, 1000)\n",
        "G_t = G(t,a)\n",
        "Ginv_t = Ginv(G_t,a)\n",
        "\n",
        "plt.plot(t, Ginv_t, linewidth=2, label=r\"$Composée$\")\n",
        "plt.xlim(0, 10)\n",
        "plt.xlabel(\"t\")\n",
        "plt.legend(fontsize=14)\n",
        "plt.show()"
      ],
      "execution_count": null,
      "outputs": [
        {
          "output_type": "stream",
          "name": "stderr",
          "text": [
            "/usr/local/lib/python3.7/dist-packages/ipykernel_launcher.py:7: RuntimeWarning: divide by zero encountered in log\n",
            "  import sys\n",
            "/usr/local/lib/python3.7/dist-packages/ipykernel_launcher.py:7: RuntimeWarning: invalid value encountered in log\n",
            "  import sys\n"
          ]
        },
        {
          "output_type": "display_data",
          "data": {
            "image/png": "[encoded data removed]",
            "text/plain": [
              "<Figure size 432x288 with 1 Axes>"
            ]
          },
          "metadata": {
            "needs_background": "light"
          }
        }
      ]
    },
    {
      "cell_type": "markdown",
      "metadata": {
        "id": "mb6EgejF0e8h"
      },
      "source": [
        "> **(2.b)** En utilisant la méthode d'inversion, créer un fonction `gLoi` permettant de simuler un échantillon de taille $n$ de variables aléatoire indépendantes de densité $g(\\cdot,a)$. "
      ]
    },
    {
      "cell_type": "code",
      "metadata": {
        "id": "AqKHHsOd0e8i"
      },
      "source": [
        "def gLoi(n,a):\n",
        "  U = np.random.uniform(size = n)\n",
        "  return Ginv(U,a)"
      ],
      "execution_count": null,
      "outputs": []
    },
    {
      "cell_type": "markdown",
      "metadata": {
        "id": "6v56ViNA0e8i"
      },
      "source": [
        "> **(2.c)**  Vérifiez graphiquement que la loi des variables aléatoires obtenues correspond bien à celle de la densité $g$."
      ]
    },
    {
      "cell_type": "code",
      "metadata": {
        "id": "YTBFEWc50e8i",
        "colab": {
          "base_uri": "https://localhost:8080/",
          "height": 340
        },
        "outputId": "64897618-3666-4b06-9beb-4e39832f9134"
      },
      "source": [
        "Nsim= 100000\n",
        "a=0.5\n",
        "histo=gLoi(Nsim,a)\n",
        "\n",
        "plt.hist(histo,50,label=\"g\",density=1)\n",
        "t= np.linspace(0, 10, 1000)\n",
        "g_t = g(t,a)\n",
        "\n",
        "plt.plot(t, g_t, linewidth=2, label=r\"$g(x,a)=\\frac{ae}{a+e}\\left(x^{a-1} \\mathbb{1}_{]0,1[}(x)+ e^{-x}\\mathbb{1}_{[1,+\\infty[}(x)\\right)$\")\n",
        "\n",
        "plt.legend(loc='upper right')\n",
        "plt.show()"
      ],
      "execution_count": null,
      "outputs": [
        {
          "output_type": "stream",
          "name": "stderr",
          "text": [
            "/usr/local/lib/python3.7/dist-packages/ipykernel_launcher.py:9: RuntimeWarning: divide by zero encountered in double_scalars\n",
            "  if __name__ == '__main__':\n",
            "/usr/local/lib/python3.7/dist-packages/ipykernel_launcher.py:9: RuntimeWarning: invalid value encountered in multiply\n",
            "  if __name__ == '__main__':\n"
          ]
        },
        {
          "output_type": "display_data",
          "data": {
            "image/png": "[encoded data removed]",
            "text/plain": [
              "<Figure size 432x288 with 1 Axes>"
            ]
          },
          "metadata": {
            "needs_background": "light"
          }
        }
      ]
    },
    {
      "cell_type": "markdown",
      "metadata": {
        "id": "huwRdk1w0e8j"
      },
      "source": [
        "> **Question 3 (Méthode de rejet  pour $a <1$).**  \n",
        "\n",
        "> **(3.a)** Définir une fonction `gamrej`, dépendant de\n",
        "$n$ et de $a$, qui renvoie pour tout $a < 1$ un vecteur de $n$ nombres\n",
        "aléatoires tirés suivant la loi $\\Gamma(a,1)$. "
      ]
    },
    {
      "cell_type": "code",
      "metadata": {
        "id": "6oPbba9r0e8j"
      },
      "source": [
        "def gamrej(n,a):\n",
        "  i =0\n",
        "  Out=[]\n",
        "  c=(a+e)/(a*np.exp(1)*spc.gamma(a))\n",
        "  while i<n :\n",
        "    Y=gLoi(n,a)\n",
        "    for x in Y:\n",
        "      u=np.random.uniform()\n",
        "      z=c*g([x],a)[0]*u\n",
        "      if z<(f([x],a)[0]):\n",
        "        Out.append(x)\n",
        "        i+=1\n",
        "  return Out"
      ],
      "execution_count": null,
      "outputs": []
    },
    {
      "cell_type": "code",
      "metadata": {
        "colab": {
          "base_uri": "https://localhost:8080/"
        },
        "id": "Gv_KVL6G_xPl",
        "outputId": "3909c479-82c5-468b-9141-f8b822cbb4c6"
      },
      "source": [
        "np.random.uniform()"
      ],
      "execution_count": null,
      "outputs": [
        {
          "output_type": "execute_result",
          "data": {
            "text/plain": [
              "0.25933000647671234"
            ]
          },
          "metadata": {},
          "execution_count": 51
        }
      ]
    },
    {
      "cell_type": "markdown",
      "metadata": {
        "id": "195hCq4x0e8j"
      },
      "source": [
        "> **(3.b)** Vérifiez graphiquement que la loi des variables aléatoires obtenues correspond bien é celle de la densité $\\Gamma(a,1)$."
      ]
    },
    {
      "cell_type": "code",
      "metadata": {
        "id": "U0XzBwuN0e8j",
        "colab": {
          "base_uri": "https://localhost:8080/",
          "height": 344
        },
        "outputId": "f5f8be00-dbf1-40a5-b3bc-37ebb8da75c1"
      },
      "source": [
        "Nsim= 100000\n",
        "a=0.5\n",
        "histo=gamrej(Nsim,a)\n",
        "\n",
        "plt.hist(histo,70,label=\"Gamma distribution\",density=1)\n",
        "t= np.linspace(0, 5, 1000)\n",
        "f_t = f(t,a)\n",
        "\n",
        "plt.plot(t, f_t, linewidth=2, label=r\"Gamma\")\n",
        "plt.xlim(0, 5)\n",
        "plt.ylim(0, 2.5)\n",
        "plt.legend(loc='upper right')\n",
        "plt.show()"
      ],
      "execution_count": null,
      "outputs": [
        {
          "output_type": "stream",
          "name": "stderr",
          "text": [
            "/usr/local/lib/python3.7/dist-packages/ipykernel_launcher.py:4: RuntimeWarning: divide by zero encountered in double_scalars\n",
            "  after removing the cwd from sys.path.\n",
            "/usr/local/lib/python3.7/dist-packages/ipykernel_launcher.py:4: RuntimeWarning: invalid value encountered in multiply\n",
            "  after removing the cwd from sys.path.\n"
          ]
        },
        {
          "output_type": "display_data",
          "data": {
            "image/png": "[encoded data removed]",
            "text/plain": [
              "<Figure size 432x288 with 1 Axes>"
            ]
          },
          "metadata": {
            "needs_background": "light"
          }
        }
      ]
    },
    {
      "cell_type": "markdown",
      "metadata": {
        "id": "_RO0AfY_0e8j"
      },
      "source": [
        "> **Question 4 (Efficacité de l'algorithme de rejet).**\n",
        " On souhaite évaluer \"l'efficacité\" de l'algorithme de rejet selon\n",
        "  l'enveloppe $g(\\cdot,a)$ choisie.\n",
        "  \n",
        "> **(4.a)** Modifier la fonction  `gamrej `pour obtenir aussi en  sortie un vecteur de taille $n$ donnant, pour chaque  variable\n",
        "  aléatoire tirée selon la loi $\\Gamma(a,1)$, le nombre d'essais qui a été nécessaire (i.e le nombre de passages dans la boucle avant une réussite)."
      ]
    },
    {
      "cell_type": "code",
      "metadata": {
        "id": "0qADDLRn0e8j"
      },
      "source": [
        "def gamrej(n,a):\n",
        "  i =0\n",
        "  Out=[]\n",
        "  Out_necess=[]\n",
        "  c=(a+e)/(a*np.exp(1)*spc.gamma(a))\n",
        "  k=0\n",
        "  while i<n :\n",
        "    Y=gLoi(n,a)\n",
        "    for x in Y:\n",
        "      u=np.random.uniform()\n",
        "      z=c*g([x],a)[0]*u\n",
        "      if z<(f([x],a)[0]):\n",
        "        Out.append(x)\n",
        "        i+=1\n",
        "        k+=1\n",
        "        Out_necess.append(k)\n",
        "        k=0\n",
        "      else:\n",
        "        k+=1\n",
        "  return Out,Out_necess"
      ],
      "execution_count": null,
      "outputs": []
    },
    {
      "cell_type": "markdown",
      "metadata": {
        "id": "_kuwhABr0e8k"
      },
      "source": [
        "> **(4.b)** Vérifier graphiquement que la loi du nombre d'essais nécessaire est une loi géométrique de paramètre $1/c$"
      ]
    },
    {
      "cell_type": "code",
      "metadata": {
        "id": "Gx6PQH0M0e8k",
        "colab": {
          "base_uri": "https://localhost:8080/",
          "height": 265
        },
        "outputId": "eccbd861-133d-4e5e-acf8-7467c8467229"
      },
      "source": [
        "Nsim= 100000\n",
        "a=0.5\n",
        "c=(a+e)/(a*np.exp(1)*spc.gamma(a))\n",
        "histo1,histo2=gamrej(Nsim,a)\n",
        "hist3= np.random.geometric(p=1/c, size=100000)\n",
        "plt.hist(histo2,70,label=\"Geom??\",density=1,alpha=0.95)\n",
        "plt.hist(hist3,70,label=\"Geom\",density=1,alpha=0.5)\n",
        "\n",
        "\n",
        "plt.legend(loc='upper right')\n",
        "plt.show()"
      ],
      "execution_count": null,
      "outputs": [
        {
          "output_type": "display_data",
          "data": {
            "image/png": "[encoded data removed]",
            "text/plain": [
              "<Figure size 432x288 with 1 Axes>"
            ]
          },
          "metadata": {
            "needs_background": "light"
          }
        }
      ]
    },
    {
      "cell_type": "markdown",
      "metadata": {
        "id": "5wWP2qvd0e8k"
      },
      "source": [
        "> **Question 5 (Utilisation d'une autre fonction majorante).**\n",
        "On propose d'utiliser l'algorithme de rejet avec une seconde fonction  :\n",
        "  \\begin{equation*}\n",
        "  g_2(x,a)=\\frac{a}{a+1}\\left(x^{a-1} \\mathbb{1}_{]0,1[}(x)+\n",
        "  \\frac{1}{x^2}\\mathbb{1}_{[1,+\\infty[}(x)\\right). \n",
        "  \\end{equation*}\n",
        " \n",
        "> **(5.a)** Vérifiez que $g_2$ est une densité et trouver une constante $c_2$ telle que  $\n",
        "  f(x,a) \\leq c_2 g_2(x,a)$ pour tout $x \\in \\mathbb{R}$.\n",
        "  Sur un même graphique, tracer la densité $f$, la fonction $c g$ et  la fonction $c_2 g_2$. "
      ]
    },
    {
      "cell_type": "code",
      "metadata": {
        "id": "MZcsIYkk0e8l"
      },
      "source": [
        ""
      ],
      "execution_count": null,
      "outputs": []
    },
    {
      "cell_type": "markdown",
      "metadata": {
        "id": "hEGLt_8n0e8l"
      },
      "source": [
        "> **(5.b)** Pour simuler une loi $\\Gamma(a,1)$ par la méthode du rejet, laquelle des deux enveloppes $c_2 g_2$ et  $c g$ est-il préférable de choisir ?"
      ]
    },
    {
      "cell_type": "markdown",
      "metadata": {
        "id": "uRoNNhHX0e8l"
      },
      "source": [
        "> **(5.c)** Créer une fonction permettant de simuler une  variable aléatoire de densité $g_2(\\cdot,a)$ en utilisant la méthode  d'inversion. "
      ]
    },
    {
      "cell_type": "code",
      "metadata": {
        "id": "sAZmSV130e8m"
      },
      "source": [
        ""
      ],
      "execution_count": null,
      "outputs": []
    },
    {
      "cell_type": "markdown",
      "metadata": {
        "id": "oyQstBL40e8m"
      },
      "source": [
        "> **(5.d)** Définir une fonction `gamrej2`, similaire à la fonction\n",
        "  `gamrej`,  pour simuler un vecteur de $n$ nombres aléatoires tirés\n",
        "  suivant la loi $\\Gamma(a,1)$. "
      ]
    },
    {
      "cell_type": "code",
      "metadata": {
        "id": "wr1gz6Au0e8n"
      },
      "source": [
        ""
      ],
      "execution_count": null,
      "outputs": []
    },
    {
      "cell_type": "markdown",
      "metadata": {
        "id": "jHhiRfDF0e8n"
      },
      "source": [
        "> **(5.e)** Vérifiez graphiquement que la loi des variables aléatoires obtenues correspond bien à celle de la densité $\\Gamma(a,1)$."
      ]
    },
    {
      "cell_type": "code",
      "metadata": {
        "id": "2EOZMjfY0e8n"
      },
      "source": [
        ""
      ],
      "execution_count": null,
      "outputs": []
    },
    {
      "cell_type": "markdown",
      "metadata": {
        "id": "7QDrE6MN0e8o"
      },
      "source": [
        "> **(5.f)** Comparer l'efficacité des algorithmes de rejet lorsqu'on utilise les enveloppes $g$   et $g2$. "
      ]
    },
    {
      "cell_type": "code",
      "metadata": {
        "id": "dp8WioMz0e8o"
      },
      "source": [
        ""
      ],
      "execution_count": null,
      "outputs": []
    },
    {
      "cell_type": "markdown",
      "metadata": {
        "id": "zj-lD1jQ0e8o"
      },
      "source": [
        "> **Question 6 - Simulation de lois exponentielles.**\n",
        "En utilisant  la méthode d'inversion, écrire une fonction `expo` d'arguments de paramètre $l$ et un entier $n$, qui renvoie $n$ variables exponentielle de paramètre $l$. "
      ]
    },
    {
      "cell_type": "code",
      "metadata": {
        "id": "vLk4c9vD0e8o"
      },
      "source": [
        ""
      ],
      "execution_count": null,
      "outputs": []
    },
    {
      "cell_type": "markdown",
      "metadata": {
        "id": "3kxsTU420e8p"
      },
      "source": [
        "> **Question 7 - Simulation de lois Gamma dans le cas général**\n",
        "\n",
        "> **(7.a)** En utilisant  la fonction `expol`, définir une fonction `gamp` d'arguments $n\\in \\mathbb{N}$ et $b>0$ et $p \\in \\mathbb{N}$, qui renvoie $n$ réalisations de la loi $\\Gamma(p,b)$."
      ]
    },
    {
      "cell_type": "code",
      "metadata": {
        "id": "Mo1XyNLn0e8p"
      },
      "source": [
        ""
      ],
      "execution_count": null,
      "outputs": []
    },
    {
      "cell_type": "markdown",
      "metadata": {
        "id": "h9m-rKPT0e8p"
      },
      "source": [
        "> **(7.b)** En utilisant les fonctions `gamrej` et `gamp`, définir une fonction `gamma_gen` d'arguments $n\\in \\mathbb{N} $, $a>0$ et $b>0$, qui renvoie $n$ réalisations de la loi Gamma(a,b)."
      ]
    },
    {
      "cell_type": "code",
      "metadata": {
        "id": "WiDrSiEk0e8q"
      },
      "source": [
        ""
      ],
      "execution_count": null,
      "outputs": []
    },
    {
      "cell_type": "markdown",
      "metadata": {
        "id": "-B7qINro0e8q"
      },
      "source": [
        "> **(7.c)** Vérifier graphiquement que les variables simulées ont bien la loi souhaitée."
      ]
    },
    {
      "cell_type": "code",
      "metadata": {
        "id": "RoD0n24S0e8q"
      },
      "source": [
        ""
      ],
      "execution_count": null,
      "outputs": []
    }
  ]
}